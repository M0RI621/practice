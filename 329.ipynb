{
 "cells": [
  {
   "cell_type": "markdown",
   "id": "593c1469",
   "metadata": {},
   "source": [
    "## Exercise 1"
   ]
  },
  {
   "cell_type": "code",
   "execution_count": 1,
   "id": "cbbcfa98",
   "metadata": {},
   "outputs": [
    {
     "name": "stdout",
     "output_type": "stream",
     "text": [
      "hello\n",
      "hello\n",
      "hello\n",
      "hello\n",
      "hello\n"
     ]
    }
   ],
   "source": [
    "for i in range(0,5):\n",
    "    print('hello')"
   ]
  },
  {
   "cell_type": "code",
   "execution_count": 2,
   "id": "325bedcb",
   "metadata": {},
   "outputs": [
    {
     "name": "stdout",
     "output_type": "stream",
     "text": [
      "hello\n",
      "hello\n",
      "hello\n",
      "hello\n",
      "hello\n"
     ]
    }
   ],
   "source": [
    "i=0\n",
    "while i <5:\n",
    "    print('hello')\n",
    "    i=i+1"
   ]
  },
  {
   "cell_type": "markdown",
   "id": "9045861e",
   "metadata": {},
   "source": [
    "## Exercise 2"
   ]
  },
  {
   "cell_type": "code",
   "execution_count": 3,
   "id": "a821a9f0",
   "metadata": {},
   "outputs": [
    {
     "name": "stdout",
     "output_type": "stream",
     "text": [
      "please fill in your password1\n",
      "try again\n",
      "please fill in your password1\n",
      "try again\n",
      "please fill in your password123\n",
      "correct\n"
     ]
    }
   ],
   "source": [
    "while True:\n",
    "    password=input('please fill in your password')\n",
    "    if password=='123':\n",
    "        print('correct')\n",
    "        break\n",
    "    else:\n",
    "        print('try again')\n",
    "        "
   ]
  },
  {
   "cell_type": "markdown",
   "id": "c6f05ea9",
   "metadata": {},
   "source": [
    "## Exercise 3"
   ]
  },
  {
   "cell_type": "code",
   "execution_count": 6,
   "id": "3a3617a7",
   "metadata": {},
   "outputs": [
    {
     "name": "stdout",
     "output_type": "stream",
     "text": [
      "please fill in your password1\n",
      "false,try again\n",
      "please fill in your password2\n",
      "false,try again\n",
      "please fill in your password123\n",
      "correct\n"
     ]
    }
   ],
   "source": [
    "chance=0\n",
    "while chance<5:\n",
    "    password=input('please fill in your password')\n",
    "    chance+=1\n",
    "    if password=='123':\n",
    "        print('correct')\n",
    "        break\n",
    "    else:\n",
    "        print('false,try again')\n",
    "    if chance==5:\n",
    "        print('system locked')"
   ]
  },
  {
   "cell_type": "markdown",
   "id": "f8d08dec",
   "metadata": {},
   "source": [
    "## Exercise 4"
   ]
  },
  {
   "cell_type": "code",
   "execution_count": 7,
   "id": "00825657",
   "metadata": {},
   "outputs": [
    {
     "name": "stdout",
     "output_type": "stream",
     "text": [
      "please fill in your user nameAlice\n",
      "hello, Alice, password please123\n",
      "access granted\n"
     ]
    }
   ],
   "source": [
    "while True:\n",
    "    name=input('please fill in your user name')\n",
    "    if name!='Alice':\n",
    "        print('incorrect user name')\n",
    "        continue\n",
    "    password=input('hello, Alice, password please')\n",
    "    if password=='123':\n",
    "        break\n",
    "    else:\n",
    "        print('incorrect password, try again')\n",
    "print('access granted')"
   ]
  },
  {
   "cell_type": "markdown",
   "id": "32c2b559",
   "metadata": {},
   "source": [
    "## Exercise 5"
   ]
  },
  {
   "cell_type": "code",
   "execution_count": 8,
   "id": "e8d13155",
   "metadata": {},
   "outputs": [
    {
     "name": "stdout",
     "output_type": "stream",
     "text": [
      "735\n"
     ]
    }
   ],
   "source": [
    "sum=0\n",
    "for i in range(1,101):\n",
    "    if i%7==0:\n",
    "        sum+=i\n",
    "print(sum)"
   ]
  },
  {
   "cell_type": "markdown",
   "id": "82102c6b",
   "metadata": {},
   "source": [
    "## Exercise 6"
   ]
  },
  {
   "cell_type": "code",
   "execution_count": 12,
   "id": "de6ea790",
   "metadata": {},
   "outputs": [
    {
     "name": "stdout",
     "output_type": "stream",
     "text": [
      "1 \n",
      "1 2 \n",
      "1 2 3 \n",
      "1 2 3 4 \n",
      "1 2 3 4 5 \n",
      "1 2 3 4 5 6 \n",
      "1 2 3 4 5 6 7 \n"
     ]
    }
   ],
   "source": [
    "max_row=7\n",
    "for row in range(1,max_row+1):\n",
    "    for column in range(1,row+1):\n",
    "        print(column,end=' ')\n",
    "    print()"
   ]
  },
  {
   "cell_type": "markdown",
   "id": "55fa94e3",
   "metadata": {},
   "source": [
    "## Exercise 7"
   ]
  },
  {
   "cell_type": "code",
   "execution_count": 13,
   "id": "cf374331",
   "metadata": {},
   "outputs": [
    {
     "name": "stdout",
     "output_type": "stream",
     "text": [
      "enter a limit:10\n",
      "2\n",
      "3\n",
      "5\n",
      "7\n"
     ]
    }
   ],
   "source": [
    "limit=int(input('enter a limit:'))\n",
    "for n in range(2,limit+1):\n",
    "    for i in range(2,n):\n",
    "        if (n%i)==0:\n",
    "            break\n",
    "    else:\n",
    "        print(n)"
   ]
  },
  {
   "cell_type": "code",
   "execution_count": null,
   "id": "871452d5",
   "metadata": {},
   "outputs": [],
   "source": []
  }
 ],
 "metadata": {
  "kernelspec": {
   "display_name": "Python 3 (ipykernel)",
   "language": "python",
   "name": "python3"
  },
  "language_info": {
   "codemirror_mode": {
    "name": "ipython",
    "version": 3
   },
   "file_extension": ".py",
   "mimetype": "text/x-python",
   "name": "python",
   "nbconvert_exporter": "python",
   "pygments_lexer": "ipython3",
   "version": "3.7.0"
  }
 },
 "nbformat": 4,
 "nbformat_minor": 5
}
