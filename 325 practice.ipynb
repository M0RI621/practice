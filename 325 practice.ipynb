{
 "cells": [
  {
   "cell_type": "code",
   "execution_count": 1,
   "metadata": {},
   "outputs": [],
   "source": [
    "from bs4 import BeautifulSoup #import beautifulsoup before using it\n",
    "import pandas as pd #import pandas and rename it as pd for short "
   ]
  },
  {
   "cell_type": "markdown",
   "metadata": {},
   "source": [
    "## Step 1 get HTML information"
   ]
  },
  {
   "cell_type": "code",
   "execution_count": 2,
   "metadata": {},
   "outputs": [],
   "source": [
    "my_html = \"\"\"\n",
    "<html>\n",
    "<head>\n",
    "    <title> Introduction to Business Programming</title>\n",
    "</head>\n",
    "<body>\n",
    "    <div class=\"session 1\">\n",
    "        <p>session 1 Course Overview</p>\n",
    "        <p> This module develops a knowledge and understanding of python programming skills in business and management background.</p>\n",
    "    </div>\n",
    "    <div class=\"session 2\">\n",
    "         <p>session 2 Python Basics</p>\n",
    "         <ul>\n",
    "            <li> Variables </li>\n",
    "            <li> Data types </li>\n",
    "            <li> Operations </li>\n",
    "            <li> Expressions </li>\n",
    "         </ul>\n",
    "    </div>\n",
    "    <div class=\"session 3 \">\n",
    "         <p>session 3 Control flows</p>\n",
    "         <ul>\n",
    "            <li> Conditional expression </li>\n",
    "            <li> IF statement </li>\n",
    "            <li> While statement </li>\n",
    "            <li> For statement </li>\n",
    "         </ul>\n",
    "    </div>\n",
    "    <div class=\"session 4 \">\n",
    "         <p>session 4 Function</p>\n",
    "         <ul>\n",
    "            <li> definition</li>\n",
    "            <li> call </li>\n",
    "            <li> global variable </li>\n",
    "            <li> local variable </li>\n",
    "         </ul>\n",
    "    </div>\n",
    "    <div class=\"session 5 \">\n",
    "         <p>session 5 Data Structure</p>\n",
    "         <ul>\n",
    "            <li> list</li>\n",
    "            <li> dictionary </li>\n",
    "         </ul>\n",
    "     </div> \n",
    "</body>\n",
    "</html>\n",
    "\"\"\""
   ]
  },
  {
   "cell_type": "markdown",
   "metadata": {},
   "source": [
    "## Step 2 select data from HTML information  "
   ]
  },
  {
   "cell_type": "code",
   "execution_count": 3,
   "metadata": {},
   "outputs": [],
   "source": [
    "soup=BeautifulSoup(my_html,\"html.parser\")\n",
    "s1=soup.find_all(\"div\",class_=\"session 1\")\n",
    "s2=soup.find_all(\"div\",class_=\"session 2\")\n",
    "s3=soup.find_all(\"div\",class_=\"session 3\")\n",
    "s4=soup.find_all(\"div\",class_=\"session 4\")\n",
    "s5=soup.find_all(\"div\",class_=\"session 5\")"
   ]
  },
  {
   "cell_type": "markdown",
   "metadata": {},
   "source": [
    "## Step 3 make the selected data in an organized pattern"
   ]
  },
  {
   "cell_type": "code",
   "execution_count": 4,
   "metadata": {},
   "outputs": [
    {
     "name": "stdout",
     "output_type": "stream",
     "text": [
      "['session 1', 'session 2', 'session 2', 'session 2', 'session 2']\n",
      "['This module develops a knowledge and understanding of python programming skills in business and management background', ' Variables ', ' Data types ', ' Operations ', ' Expressions ']\n",
      "{'Session': ['session 1', 'session 2', 'session 2', 'session 2', 'session 2'], 'point': ['This module develops a knowledge and understanding of python programming skills in business and management background', ' Variables ', ' Data types ', ' Operations ', ' Expressions ']}\n"
     ]
    }
   ],
   "source": [
    "points=[]\n",
    "sessions=[]\n",
    "\n",
    "for i in s1:\n",
    "    p=list(i.find_all(\"p\"))\n",
    "    n=len(p)\n",
    "    a=str(p[n-1])[4:-5]\n",
    "    points.append(a)\n",
    "    sessions.append('session 1')\n",
    "#print(points)\n",
    "#print(sessions)\n",
    "\n",
    "for i in s2:\n",
    "    p=list(i.find_all(\"li\"))\n",
    "    n=len(p)\n",
    "    for j in range(n):\n",
    "        a=str(p[j])[4:-5]\n",
    "        points.append(a)\n",
    "        sessions.append('session 2')\n",
    "\n",
    "for i in s3:\n",
    "    p=list(i.find_all(\"li\"))\n",
    "    n=len(p)\n",
    "    for j in range(n):\n",
    "        a=str(p[j])[4:-5]\n",
    "        points.append(a)\n",
    "        sessions.append('session 3')\n",
    "        \n",
    "        \n",
    "for i in s4:\n",
    "    p=list(i.find_all(\"li\"))\n",
    "    n=len(p)\n",
    "    for j in range(n):\n",
    "        a=str(p[j])[4:-5]\n",
    "        points.append(a)\n",
    "        sessions.append('session 4')        \n",
    "        \n",
    "        \n",
    "for i in s5:\n",
    "    p=list(i.find_all(\"li\"))\n",
    "    n=len(p)\n",
    "    for j in range(n):\n",
    "        a=str(p[j])[4:-5]\n",
    "        points.append(a)\n",
    "        sessions.append('session 5')           \n",
    "        \n",
    "        \n",
    "print(sessions)\n",
    "print(points)\n",
    "\n",
    "dic={'Session':sessions, \"point\":points}\n",
    "print(dic)\n",
    "df=pd.DataFrame(dic)"
   ]
  },
  {
   "cell_type": "markdown",
   "metadata": {},
   "source": [
    "## Step 4  save data to csv"
   ]
  },
  {
   "cell_type": "code",
   "execution_count": 5,
   "metadata": {},
   "outputs": [],
   "source": [
    "df.to_csv('IBP1.csv',mode='w',index=False,header=True)"
   ]
  },
  {
   "cell_type": "code",
   "execution_count": null,
   "metadata": {},
   "outputs": [],
   "source": []
  }
 ],
 "metadata": {
  "kernelspec": {
   "display_name": "Python 3",
   "language": "python",
   "name": "python3"
  },
  "language_info": {
   "codemirror_mode": {
    "name": "ipython",
    "version": 3
   },
   "file_extension": ".py",
   "mimetype": "text/x-python",
   "name": "python",
   "nbconvert_exporter": "python",
   "pygments_lexer": "ipython3",
   "version": "3.7.0"
  }
 },
 "nbformat": 4,
 "nbformat_minor": 5
}
